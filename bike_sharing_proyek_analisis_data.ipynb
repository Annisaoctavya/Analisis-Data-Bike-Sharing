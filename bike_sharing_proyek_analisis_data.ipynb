{
  "cells": [
    {
      "cell_type": "markdown",
      "metadata": {
        "id": "jQY5TnHr9fyS"
      },
      "source": [
        "# Proyek Analisis Data: Nama dataset"
      ]
    },
    {
      "cell_type": "markdown",
      "metadata": {
        "id": "KZOVEHIz9fyV"
      },
      "source": [
        "- Nama: Annisa Octavyanti Hakim\n",
        "- Email: annisaoctavya@gmail.com\n",
        "- Id Dicoding: <a href='https://www.dicoding.com/users/annisaoctavya'>annisaoctavyantihakim</a>"
      ]
    },
    {
      "cell_type": "markdown",
      "metadata": {
        "id": "g-E9GrdP9fyW"
      },
      "source": [
        "# Menentukan Pertanyaan Bisnis"
      ]
    },
    {
      "cell_type": "markdown",
      "metadata": {
        "id": "yRnlPz5n9fyW"
      },
      "source": [
        "**Specifict:**\n",
        "- 1. Berapakah jumlah total penyewaan sepeda (cnt) selama musim gugur (season 3) pada tahun 2012?\n",
        "\n",
        "**Measurable:**\n",
        "- 2. Berapa banyak sepeda sewa yang digunakan pada hari libur (holiday = 1) selama musim panas (season 2) pada tahun 2011?\n",
        "\n",
        "**Action-oriented:**\n",
        "- 3. Bagaimana dapat meningkatkan jumlah penyewaan sepeda yang dilakukan oleh pengguna casual pada hari kerja (working day = 1)?\n",
        "\n",
        "**Relevant:**\n",
        "- 4. Apakah ada hubungan antara suhu (temp) dan jumlah pengguna terdaftar (registered)?\n",
        "\n",
        "- 5. Bagaimana cuaca (weathersit) memengaruhi jumlah penyewaan sepeda (cnt) selama musim gugur (season 3)?\n",
        "\n",
        "**Time-bound:**\n",
        "- 6. Berapa distribusi per jam dari penyewaan sepeda (cnt) pada Hari Natal (holiday = 1) tahun 2012 (year = 1)?"
      ]
    },
    {
      "cell_type": "markdown",
      "metadata": {
        "id": "RPGLMqxl9fyX"
      },
      "source": [
        "<!-- - **Specific**: What is the total count of rental bikes (cnt) for the year 2012 during the fall season (season 3)?\n",
        "- **Measurable**: How many rental bikes were used on holidays (holiday = 1) during the summer season (season 2) in 2011?\n",
        "- **Action-oriented**: How can we increase the number of rental bikes used by casual users (casual) on weekdays (workingday = 1)?\n",
        "- **Relevant**:\n",
        "    - What is the relationship between temperature (temp) and the number of registered users (registered)?\n",
        "    - What effect does the weather (weathersit) have on the number of bicycle rentals (cnt) during autumn (season 3)?\n",
        "- **Time-bound**: What was the hourly distribution of rental bikes (cnt) on Christmas Day (holiday = 1) in 2012 (yr = 1)? -->"
      ]
    },
    {
      "cell_type": "markdown",
      "metadata": {
        "id": "DZG6sK9q9fyX"
      },
      "source": [
        "# Menyiapkan semua library yang dibuthkan"
      ]
    },
    {
      "cell_type": "code",
      "execution_count": 3,
      "metadata": {
        "id": "gXlFPQCd9fyY"
      },
      "outputs": [],
      "source": [
        "# Library\n",
        "import pandas as pd\n",
        "import plotly.express as px\n",
        "\n",
        "import warnings"
      ]
    },
    {
      "cell_type": "markdown",
      "metadata": {
        "id": "hCH6Jwhk9fya"
      },
      "source": [
        "# Data Wrangling"
      ]
    },
    {
      "cell_type": "markdown",
      "metadata": {
        "id": "Tf73k_B79fya"
      },
      "source": [
        "## Gathering Data"
      ]
    },
    {
      "cell_type": "code",
      "execution_count": 4,
      "metadata": {
        "id": "-Kjt1XKq9fya"
      },
      "outputs": [],
      "source": [
        "df_day = pd.read_csv(\"data/day.csv\")\n",
        "df_hour = pd.read_csv(\"data/hour.csv\")"
      ]
    },
    {
      "cell_type": "code",
      "execution_count": 5,
      "metadata": {
        "colab": {
          "base_uri": "https://localhost:8080/",
          "height": 293
        },
        "id": "KoaFbLeZ9fyb",
        "outputId": "eb649ec1-c378-41f8-d415-76a2e9f0e81a"
      },
      "outputs": [
        {
          "data": {
            "text/html": [
              "<div>\n",
              "<style scoped>\n",
              "    .dataframe tbody tr th:only-of-type {\n",
              "        vertical-align: middle;\n",
              "    }\n",
              "\n",
              "    .dataframe tbody tr th {\n",
              "        vertical-align: top;\n",
              "    }\n",
              "\n",
              "    .dataframe thead th {\n",
              "        text-align: right;\n",
              "    }\n",
              "</style>\n",
              "<table border=\"1\" class=\"dataframe\">\n",
              "  <thead>\n",
              "    <tr style=\"text-align: right;\">\n",
              "      <th></th>\n",
              "      <th>instant</th>\n",
              "      <th>dteday</th>\n",
              "      <th>season</th>\n",
              "      <th>yr</th>\n",
              "      <th>mnth</th>\n",
              "      <th>holiday</th>\n",
              "      <th>weekday</th>\n",
              "      <th>workingday</th>\n",
              "      <th>weathersit</th>\n",
              "      <th>temp</th>\n",
              "      <th>atemp</th>\n",
              "      <th>hum</th>\n",
              "      <th>windspeed</th>\n",
              "      <th>casual</th>\n",
              "      <th>registered</th>\n",
              "      <th>cnt</th>\n",
              "    </tr>\n",
              "  </thead>\n",
              "  <tbody>\n",
              "    <tr>\n",
              "      <th>0</th>\n",
              "      <td>1</td>\n",
              "      <td>2011-01-01</td>\n",
              "      <td>1</td>\n",
              "      <td>0</td>\n",
              "      <td>1</td>\n",
              "      <td>0</td>\n",
              "      <td>6</td>\n",
              "      <td>0</td>\n",
              "      <td>2</td>\n",
              "      <td>0.344167</td>\n",
              "      <td>0.363625</td>\n",
              "      <td>0.805833</td>\n",
              "      <td>0.160446</td>\n",
              "      <td>331</td>\n",
              "      <td>654</td>\n",
              "      <td>985</td>\n",
              "    </tr>\n",
              "    <tr>\n",
              "      <th>1</th>\n",
              "      <td>2</td>\n",
              "      <td>2011-01-02</td>\n",
              "      <td>1</td>\n",
              "      <td>0</td>\n",
              "      <td>1</td>\n",
              "      <td>0</td>\n",
              "      <td>0</td>\n",
              "      <td>0</td>\n",
              "      <td>2</td>\n",
              "      <td>0.363478</td>\n",
              "      <td>0.353739</td>\n",
              "      <td>0.696087</td>\n",
              "      <td>0.248539</td>\n",
              "      <td>131</td>\n",
              "      <td>670</td>\n",
              "      <td>801</td>\n",
              "    </tr>\n",
              "    <tr>\n",
              "      <th>2</th>\n",
              "      <td>3</td>\n",
              "      <td>2011-01-03</td>\n",
              "      <td>1</td>\n",
              "      <td>0</td>\n",
              "      <td>1</td>\n",
              "      <td>0</td>\n",
              "      <td>1</td>\n",
              "      <td>1</td>\n",
              "      <td>1</td>\n",
              "      <td>0.196364</td>\n",
              "      <td>0.189405</td>\n",
              "      <td>0.437273</td>\n",
              "      <td>0.248309</td>\n",
              "      <td>120</td>\n",
              "      <td>1229</td>\n",
              "      <td>1349</td>\n",
              "    </tr>\n",
              "    <tr>\n",
              "      <th>3</th>\n",
              "      <td>4</td>\n",
              "      <td>2011-01-04</td>\n",
              "      <td>1</td>\n",
              "      <td>0</td>\n",
              "      <td>1</td>\n",
              "      <td>0</td>\n",
              "      <td>2</td>\n",
              "      <td>1</td>\n",
              "      <td>1</td>\n",
              "      <td>0.200000</td>\n",
              "      <td>0.212122</td>\n",
              "      <td>0.590435</td>\n",
              "      <td>0.160296</td>\n",
              "      <td>108</td>\n",
              "      <td>1454</td>\n",
              "      <td>1562</td>\n",
              "    </tr>\n",
              "    <tr>\n",
              "      <th>4</th>\n",
              "      <td>5</td>\n",
              "      <td>2011-01-05</td>\n",
              "      <td>1</td>\n",
              "      <td>0</td>\n",
              "      <td>1</td>\n",
              "      <td>0</td>\n",
              "      <td>3</td>\n",
              "      <td>1</td>\n",
              "      <td>1</td>\n",
              "      <td>0.226957</td>\n",
              "      <td>0.229270</td>\n",
              "      <td>0.436957</td>\n",
              "      <td>0.186900</td>\n",
              "      <td>82</td>\n",
              "      <td>1518</td>\n",
              "      <td>1600</td>\n",
              "    </tr>\n",
              "  </tbody>\n",
              "</table>\n",
              "</div>"
            ],
            "text/plain": [
              "   instant      dteday  season  yr  mnth  holiday  weekday  workingday  \\\n",
              "0        1  2011-01-01       1   0     1        0        6           0   \n",
              "1        2  2011-01-02       1   0     1        0        0           0   \n",
              "2        3  2011-01-03       1   0     1        0        1           1   \n",
              "3        4  2011-01-04       1   0     1        0        2           1   \n",
              "4        5  2011-01-05       1   0     1        0        3           1   \n",
              "\n",
              "   weathersit      temp     atemp       hum  windspeed  casual  registered  \\\n",
              "0           2  0.344167  0.363625  0.805833   0.160446     331         654   \n",
              "1           2  0.363478  0.353739  0.696087   0.248539     131         670   \n",
              "2           1  0.196364  0.189405  0.437273   0.248309     120        1229   \n",
              "3           1  0.200000  0.212122  0.590435   0.160296     108        1454   \n",
              "4           1  0.226957  0.229270  0.436957   0.186900      82        1518   \n",
              "\n",
              "    cnt  \n",
              "0   985  \n",
              "1   801  \n",
              "2  1349  \n",
              "3  1562  \n",
              "4  1600  "
            ]
          },
          "execution_count": 5,
          "metadata": {},
          "output_type": "execute_result"
        }
      ],
      "source": [
        "df_day.head()"
      ]
    },
    {
      "cell_type": "code",
      "execution_count": 6,
      "metadata": {
        "colab": {
          "base_uri": "https://localhost:8080/",
          "height": 206
        },
        "id": "wkTDrRyc9fyc",
        "outputId": "6c81c308-2224-4bac-e36c-754bfa9f1722"
      },
      "outputs": [
        {
          "data": {
            "text/html": [
              "<div>\n",
              "<style scoped>\n",
              "    .dataframe tbody tr th:only-of-type {\n",
              "        vertical-align: middle;\n",
              "    }\n",
              "\n",
              "    .dataframe tbody tr th {\n",
              "        vertical-align: top;\n",
              "    }\n",
              "\n",
              "    .dataframe thead th {\n",
              "        text-align: right;\n",
              "    }\n",
              "</style>\n",
              "<table border=\"1\" class=\"dataframe\">\n",
              "  <thead>\n",
              "    <tr style=\"text-align: right;\">\n",
              "      <th></th>\n",
              "      <th>instant</th>\n",
              "      <th>dteday</th>\n",
              "      <th>season</th>\n",
              "      <th>yr</th>\n",
              "      <th>mnth</th>\n",
              "      <th>hr</th>\n",
              "      <th>holiday</th>\n",
              "      <th>weekday</th>\n",
              "      <th>workingday</th>\n",
              "      <th>weathersit</th>\n",
              "      <th>temp</th>\n",
              "      <th>atemp</th>\n",
              "      <th>hum</th>\n",
              "      <th>windspeed</th>\n",
              "      <th>casual</th>\n",
              "      <th>registered</th>\n",
              "      <th>cnt</th>\n",
              "    </tr>\n",
              "  </thead>\n",
              "  <tbody>\n",
              "    <tr>\n",
              "      <th>0</th>\n",
              "      <td>1</td>\n",
              "      <td>2011-01-01</td>\n",
              "      <td>1</td>\n",
              "      <td>0</td>\n",
              "      <td>1</td>\n",
              "      <td>0</td>\n",
              "      <td>0</td>\n",
              "      <td>6</td>\n",
              "      <td>0</td>\n",
              "      <td>1</td>\n",
              "      <td>0.24</td>\n",
              "      <td>0.2879</td>\n",
              "      <td>0.81</td>\n",
              "      <td>0.0</td>\n",
              "      <td>3</td>\n",
              "      <td>13</td>\n",
              "      <td>16</td>\n",
              "    </tr>\n",
              "    <tr>\n",
              "      <th>1</th>\n",
              "      <td>2</td>\n",
              "      <td>2011-01-01</td>\n",
              "      <td>1</td>\n",
              "      <td>0</td>\n",
              "      <td>1</td>\n",
              "      <td>1</td>\n",
              "      <td>0</td>\n",
              "      <td>6</td>\n",
              "      <td>0</td>\n",
              "      <td>1</td>\n",
              "      <td>0.22</td>\n",
              "      <td>0.2727</td>\n",
              "      <td>0.80</td>\n",
              "      <td>0.0</td>\n",
              "      <td>8</td>\n",
              "      <td>32</td>\n",
              "      <td>40</td>\n",
              "    </tr>\n",
              "    <tr>\n",
              "      <th>2</th>\n",
              "      <td>3</td>\n",
              "      <td>2011-01-01</td>\n",
              "      <td>1</td>\n",
              "      <td>0</td>\n",
              "      <td>1</td>\n",
              "      <td>2</td>\n",
              "      <td>0</td>\n",
              "      <td>6</td>\n",
              "      <td>0</td>\n",
              "      <td>1</td>\n",
              "      <td>0.22</td>\n",
              "      <td>0.2727</td>\n",
              "      <td>0.80</td>\n",
              "      <td>0.0</td>\n",
              "      <td>5</td>\n",
              "      <td>27</td>\n",
              "      <td>32</td>\n",
              "    </tr>\n",
              "    <tr>\n",
              "      <th>3</th>\n",
              "      <td>4</td>\n",
              "      <td>2011-01-01</td>\n",
              "      <td>1</td>\n",
              "      <td>0</td>\n",
              "      <td>1</td>\n",
              "      <td>3</td>\n",
              "      <td>0</td>\n",
              "      <td>6</td>\n",
              "      <td>0</td>\n",
              "      <td>1</td>\n",
              "      <td>0.24</td>\n",
              "      <td>0.2879</td>\n",
              "      <td>0.75</td>\n",
              "      <td>0.0</td>\n",
              "      <td>3</td>\n",
              "      <td>10</td>\n",
              "      <td>13</td>\n",
              "    </tr>\n",
              "    <tr>\n",
              "      <th>4</th>\n",
              "      <td>5</td>\n",
              "      <td>2011-01-01</td>\n",
              "      <td>1</td>\n",
              "      <td>0</td>\n",
              "      <td>1</td>\n",
              "      <td>4</td>\n",
              "      <td>0</td>\n",
              "      <td>6</td>\n",
              "      <td>0</td>\n",
              "      <td>1</td>\n",
              "      <td>0.24</td>\n",
              "      <td>0.2879</td>\n",
              "      <td>0.75</td>\n",
              "      <td>0.0</td>\n",
              "      <td>0</td>\n",
              "      <td>1</td>\n",
              "      <td>1</td>\n",
              "    </tr>\n",
              "  </tbody>\n",
              "</table>\n",
              "</div>"
            ],
            "text/plain": [
              "   instant      dteday  season  yr  mnth  hr  holiday  weekday  workingday  \\\n",
              "0        1  2011-01-01       1   0     1   0        0        6           0   \n",
              "1        2  2011-01-01       1   0     1   1        0        6           0   \n",
              "2        3  2011-01-01       1   0     1   2        0        6           0   \n",
              "3        4  2011-01-01       1   0     1   3        0        6           0   \n",
              "4        5  2011-01-01       1   0     1   4        0        6           0   \n",
              "\n",
              "   weathersit  temp   atemp   hum  windspeed  casual  registered  cnt  \n",
              "0           1  0.24  0.2879  0.81        0.0       3          13   16  \n",
              "1           1  0.22  0.2727  0.80        0.0       8          32   40  \n",
              "2           1  0.22  0.2727  0.80        0.0       5          27   32  \n",
              "3           1  0.24  0.2879  0.75        0.0       3          10   13  \n",
              "4           1  0.24  0.2879  0.75        0.0       0           1    1  "
            ]
          },
          "execution_count": 6,
          "metadata": {},
          "output_type": "execute_result"
        }
      ],
      "source": [
        "df_hour.head()"
      ]
    },
    {
      "cell_type": "markdown",
      "metadata": {
        "id": "VbPrdNbz9fyc"
      },
      "source": [
        "## Assessing Data"
      ]
    },
    {
      "cell_type": "markdown",
      "metadata": {
        "id": "vW3194lC9fyd"
      },
      "source": [
        "### > Data Type"
      ]
    },
    {
      "cell_type": "code",
      "execution_count": 7,
      "metadata": {
        "colab": {
          "base_uri": "https://localhost:8080/"
        },
        "id": "FkYP0oh59fyd",
        "outputId": "24c8873c-7c8a-44b8-c43d-40581c22beca"
      },
      "outputs": [
        {
          "name": "stdout",
          "output_type": "stream",
          "text": [
            "Dataframe day:\n",
            "<class 'pandas.core.frame.DataFrame'>\n",
            "RangeIndex: 731 entries, 0 to 730\n",
            "Data columns (total 16 columns):\n",
            " #   Column      Non-Null Count  Dtype  \n",
            "---  ------      --------------  -----  \n",
            " 0   instant     731 non-null    int64  \n",
            " 1   dteday      731 non-null    object \n",
            " 2   season      731 non-null    int64  \n",
            " 3   yr          731 non-null    int64  \n",
            " 4   mnth        731 non-null    int64  \n",
            " 5   holiday     731 non-null    int64  \n",
            " 6   weekday     731 non-null    int64  \n",
            " 7   workingday  731 non-null    int64  \n",
            " 8   weathersit  731 non-null    int64  \n",
            " 9   temp        731 non-null    float64\n",
            " 10  atemp       731 non-null    float64\n",
            " 11  hum         731 non-null    float64\n",
            " 12  windspeed   731 non-null    float64\n",
            " 13  casual      731 non-null    int64  \n",
            " 14  registered  731 non-null    int64  \n",
            " 15  cnt         731 non-null    int64  \n",
            "dtypes: float64(4), int64(11), object(1)\n",
            "memory usage: 91.5+ KB\n",
            "None\n",
            "\n",
            "Dataframe hour:\n",
            "<class 'pandas.core.frame.DataFrame'>\n",
            "RangeIndex: 17379 entries, 0 to 17378\n",
            "Data columns (total 17 columns):\n",
            " #   Column      Non-Null Count  Dtype  \n",
            "---  ------      --------------  -----  \n",
            " 0   instant     17379 non-null  int64  \n",
            " 1   dteday      17379 non-null  object \n",
            " 2   season      17379 non-null  int64  \n",
            " 3   yr          17379 non-null  int64  \n",
            " 4   mnth        17379 non-null  int64  \n",
            " 5   hr          17379 non-null  int64  \n",
            " 6   holiday     17379 non-null  int64  \n",
            " 7   weekday     17379 non-null  int64  \n",
            " 8   workingday  17379 non-null  int64  \n",
            " 9   weathersit  17379 non-null  int64  \n",
            " 10  temp        17379 non-null  float64\n",
            " 11  atemp       17379 non-null  float64\n",
            " 12  hum         17379 non-null  float64\n",
            " 13  windspeed   17379 non-null  float64\n",
            " 14  casual      17379 non-null  int64  \n",
            " 15  registered  17379 non-null  int64  \n",
            " 16  cnt         17379 non-null  int64  \n",
            "dtypes: float64(4), int64(12), object(1)\n",
            "memory usage: 2.3+ MB\n",
            "None\n"
          ]
        }
      ],
      "source": [
        "print('Dataframe day:')\n",
        "print(df_day.info())\n",
        "\n",
        "print('\\nDataframe hour:')\n",
        "print(df_hour.info())"
      ]
    },
    {
      "cell_type": "markdown",
      "metadata": {
        "id": "mu_E0RA69fyd"
      },
      "source": [
        "(!) Berdasarkan hasil observasi pada df_day, terdapat kesalahan dalam jenis data pada kolom dteday yang awalnya berupa objek, tetapi seharusnya berupa tipe data datetime."
      ]
    },
    {
      "cell_type": "markdown",
      "metadata": {
        "id": "fnjXgzW09fyd"
      },
      "source": [
        "### > Missing value"
      ]
    },
    {
      "cell_type": "code",
      "execution_count": 8,
      "metadata": {
        "colab": {
          "base_uri": "https://localhost:8080/"
        },
        "id": "oU6XcaFq9fyd",
        "outputId": "2f58b3d0-b425-4772-8390-3a701768bba6"
      },
      "outputs": [
        {
          "name": "stdout",
          "output_type": "stream",
          "text": [
            "Dataframe day:\n",
            "instant       0\n",
            "dteday        0\n",
            "season        0\n",
            "yr            0\n",
            "mnth          0\n",
            "holiday       0\n",
            "weekday       0\n",
            "workingday    0\n",
            "weathersit    0\n",
            "temp          0\n",
            "atemp         0\n",
            "hum           0\n",
            "windspeed     0\n",
            "casual        0\n",
            "registered    0\n",
            "cnt           0\n",
            "dtype: int64\n",
            "\n",
            "Dataframe hour:\n",
            "instant       0\n",
            "dteday        0\n",
            "season        0\n",
            "yr            0\n",
            "mnth          0\n",
            "hr            0\n",
            "holiday       0\n",
            "weekday       0\n",
            "workingday    0\n",
            "weathersit    0\n",
            "temp          0\n",
            "atemp         0\n",
            "hum           0\n",
            "windspeed     0\n",
            "casual        0\n",
            "registered    0\n",
            "cnt           0\n",
            "dtype: int64\n"
          ]
        }
      ],
      "source": [
        "print('Dataframe day:')\n",
        "print(df_day.isna().sum())\n",
        "\n",
        "print('\\nDataframe hour:')\n",
        "print(df_hour.isna().sum())"
      ]
    },
    {
      "cell_type": "markdown",
      "metadata": {
        "id": "qpLbszcC9fye"
      },
      "source": [
        "(✓) Dari hasil pemeriksaan pada dataset df_day dan df_hour, tidak ada nilai yang hilang atau kosong."
      ]
    },
    {
      "cell_type": "markdown",
      "metadata": {
        "id": "wdRxdv1p9fye"
      },
      "source": [
        "### > Duplicate Data"
      ]
    },
    {
      "cell_type": "code",
      "execution_count": 9,
      "metadata": {
        "colab": {
          "base_uri": "https://localhost:8080/"
        },
        "id": "RmhKXVUj9fye",
        "outputId": "1082b58d-d169-47bb-f8a2-e9162cde8e0d"
      },
      "outputs": [
        {
          "name": "stdout",
          "output_type": "stream",
          "text": [
            "Dataframe day: 0\n",
            "Dataframe hour: 0\n"
          ]
        }
      ],
      "source": [
        "print('Dataframe day:', df_day.duplicated().sum())\n",
        "print(\"Dataframe hour:\", df_hour.duplicated().sum())"
      ]
    },
    {
      "cell_type": "markdown",
      "metadata": {
        "id": "KZ143zn_9fyf"
      },
      "source": [
        "(✓) Tidak ada data yang duplicate."
      ]
    },
    {
      "cell_type": "markdown",
      "metadata": {
        "id": "4b96-bgu9fyf"
      },
      "source": [
        "### > Descriptive statistics"
      ]
    },
    {
      "cell_type": "code",
      "execution_count": 10,
      "metadata": {
        "colab": {
          "base_uri": "https://localhost:8080/",
          "height": 320
        },
        "id": "0SPgR5w29fyf",
        "outputId": "423ec9c6-777e-4b74-8716-d0a08b4e1f9e"
      },
      "outputs": [
        {
          "data": {
            "text/html": [
              "<div>\n",
              "<style scoped>\n",
              "    .dataframe tbody tr th:only-of-type {\n",
              "        vertical-align: middle;\n",
              "    }\n",
              "\n",
              "    .dataframe tbody tr th {\n",
              "        vertical-align: top;\n",
              "    }\n",
              "\n",
              "    .dataframe thead th {\n",
              "        text-align: right;\n",
              "    }\n",
              "</style>\n",
              "<table border=\"1\" class=\"dataframe\">\n",
              "  <thead>\n",
              "    <tr style=\"text-align: right;\">\n",
              "      <th></th>\n",
              "      <th>instant</th>\n",
              "      <th>season</th>\n",
              "      <th>yr</th>\n",
              "      <th>mnth</th>\n",
              "      <th>holiday</th>\n",
              "      <th>weekday</th>\n",
              "      <th>workingday</th>\n",
              "      <th>weathersit</th>\n",
              "      <th>temp</th>\n",
              "      <th>atemp</th>\n",
              "      <th>hum</th>\n",
              "      <th>windspeed</th>\n",
              "      <th>casual</th>\n",
              "      <th>registered</th>\n",
              "      <th>cnt</th>\n",
              "    </tr>\n",
              "  </thead>\n",
              "  <tbody>\n",
              "    <tr>\n",
              "      <th>count</th>\n",
              "      <td>731.000000</td>\n",
              "      <td>731.000000</td>\n",
              "      <td>731.000000</td>\n",
              "      <td>731.000000</td>\n",
              "      <td>731.000000</td>\n",
              "      <td>731.000000</td>\n",
              "      <td>731.000000</td>\n",
              "      <td>731.000000</td>\n",
              "      <td>731.000000</td>\n",
              "      <td>731.000000</td>\n",
              "      <td>731.000000</td>\n",
              "      <td>731.000000</td>\n",
              "      <td>731.000000</td>\n",
              "      <td>731.000000</td>\n",
              "      <td>731.000000</td>\n",
              "    </tr>\n",
              "    <tr>\n",
              "      <th>mean</th>\n",
              "      <td>366.000000</td>\n",
              "      <td>2.496580</td>\n",
              "      <td>0.500684</td>\n",
              "      <td>6.519836</td>\n",
              "      <td>0.028728</td>\n",
              "      <td>2.997264</td>\n",
              "      <td>0.683995</td>\n",
              "      <td>1.395349</td>\n",
              "      <td>0.495385</td>\n",
              "      <td>0.474354</td>\n",
              "      <td>0.627894</td>\n",
              "      <td>0.190486</td>\n",
              "      <td>848.176471</td>\n",
              "      <td>3656.172367</td>\n",
              "      <td>4504.348837</td>\n",
              "    </tr>\n",
              "    <tr>\n",
              "      <th>std</th>\n",
              "      <td>211.165812</td>\n",
              "      <td>1.110807</td>\n",
              "      <td>0.500342</td>\n",
              "      <td>3.451913</td>\n",
              "      <td>0.167155</td>\n",
              "      <td>2.004787</td>\n",
              "      <td>0.465233</td>\n",
              "      <td>0.544894</td>\n",
              "      <td>0.183051</td>\n",
              "      <td>0.162961</td>\n",
              "      <td>0.142429</td>\n",
              "      <td>0.077498</td>\n",
              "      <td>686.622488</td>\n",
              "      <td>1560.256377</td>\n",
              "      <td>1937.211452</td>\n",
              "    </tr>\n",
              "    <tr>\n",
              "      <th>min</th>\n",
              "      <td>1.000000</td>\n",
              "      <td>1.000000</td>\n",
              "      <td>0.000000</td>\n",
              "      <td>1.000000</td>\n",
              "      <td>0.000000</td>\n",
              "      <td>0.000000</td>\n",
              "      <td>0.000000</td>\n",
              "      <td>1.000000</td>\n",
              "      <td>0.059130</td>\n",
              "      <td>0.079070</td>\n",
              "      <td>0.000000</td>\n",
              "      <td>0.022392</td>\n",
              "      <td>2.000000</td>\n",
              "      <td>20.000000</td>\n",
              "      <td>22.000000</td>\n",
              "    </tr>\n",
              "    <tr>\n",
              "      <th>25%</th>\n",
              "      <td>183.500000</td>\n",
              "      <td>2.000000</td>\n",
              "      <td>0.000000</td>\n",
              "      <td>4.000000</td>\n",
              "      <td>0.000000</td>\n",
              "      <td>1.000000</td>\n",
              "      <td>0.000000</td>\n",
              "      <td>1.000000</td>\n",
              "      <td>0.337083</td>\n",
              "      <td>0.337842</td>\n",
              "      <td>0.520000</td>\n",
              "      <td>0.134950</td>\n",
              "      <td>315.500000</td>\n",
              "      <td>2497.000000</td>\n",
              "      <td>3152.000000</td>\n",
              "    </tr>\n",
              "    <tr>\n",
              "      <th>50%</th>\n",
              "      <td>366.000000</td>\n",
              "      <td>3.000000</td>\n",
              "      <td>1.000000</td>\n",
              "      <td>7.000000</td>\n",
              "      <td>0.000000</td>\n",
              "      <td>3.000000</td>\n",
              "      <td>1.000000</td>\n",
              "      <td>1.000000</td>\n",
              "      <td>0.498333</td>\n",
              "      <td>0.486733</td>\n",
              "      <td>0.626667</td>\n",
              "      <td>0.180975</td>\n",
              "      <td>713.000000</td>\n",
              "      <td>3662.000000</td>\n",
              "      <td>4548.000000</td>\n",
              "    </tr>\n",
              "    <tr>\n",
              "      <th>75%</th>\n",
              "      <td>548.500000</td>\n",
              "      <td>3.000000</td>\n",
              "      <td>1.000000</td>\n",
              "      <td>10.000000</td>\n",
              "      <td>0.000000</td>\n",
              "      <td>5.000000</td>\n",
              "      <td>1.000000</td>\n",
              "      <td>2.000000</td>\n",
              "      <td>0.655417</td>\n",
              "      <td>0.608602</td>\n",
              "      <td>0.730209</td>\n",
              "      <td>0.233214</td>\n",
              "      <td>1096.000000</td>\n",
              "      <td>4776.500000</td>\n",
              "      <td>5956.000000</td>\n",
              "    </tr>\n",
              "    <tr>\n",
              "      <th>max</th>\n",
              "      <td>731.000000</td>\n",
              "      <td>4.000000</td>\n",
              "      <td>1.000000</td>\n",
              "      <td>12.000000</td>\n",
              "      <td>1.000000</td>\n",
              "      <td>6.000000</td>\n",
              "      <td>1.000000</td>\n",
              "      <td>3.000000</td>\n",
              "      <td>0.861667</td>\n",
              "      <td>0.840896</td>\n",
              "      <td>0.972500</td>\n",
              "      <td>0.507463</td>\n",
              "      <td>3410.000000</td>\n",
              "      <td>6946.000000</td>\n",
              "      <td>8714.000000</td>\n",
              "    </tr>\n",
              "  </tbody>\n",
              "</table>\n",
              "</div>"
            ],
            "text/plain": [
              "          instant      season          yr        mnth     holiday     weekday  \\\n",
              "count  731.000000  731.000000  731.000000  731.000000  731.000000  731.000000   \n",
              "mean   366.000000    2.496580    0.500684    6.519836    0.028728    2.997264   \n",
              "std    211.165812    1.110807    0.500342    3.451913    0.167155    2.004787   \n",
              "min      1.000000    1.000000    0.000000    1.000000    0.000000    0.000000   \n",
              "25%    183.500000    2.000000    0.000000    4.000000    0.000000    1.000000   \n",
              "50%    366.000000    3.000000    1.000000    7.000000    0.000000    3.000000   \n",
              "75%    548.500000    3.000000    1.000000   10.000000    0.000000    5.000000   \n",
              "max    731.000000    4.000000    1.000000   12.000000    1.000000    6.000000   \n",
              "\n",
              "       workingday  weathersit        temp       atemp         hum   windspeed  \\\n",
              "count  731.000000  731.000000  731.000000  731.000000  731.000000  731.000000   \n",
              "mean     0.683995    1.395349    0.495385    0.474354    0.627894    0.190486   \n",
              "std      0.465233    0.544894    0.183051    0.162961    0.142429    0.077498   \n",
              "min      0.000000    1.000000    0.059130    0.079070    0.000000    0.022392   \n",
              "25%      0.000000    1.000000    0.337083    0.337842    0.520000    0.134950   \n",
              "50%      1.000000    1.000000    0.498333    0.486733    0.626667    0.180975   \n",
              "75%      1.000000    2.000000    0.655417    0.608602    0.730209    0.233214   \n",
              "max      1.000000    3.000000    0.861667    0.840896    0.972500    0.507463   \n",
              "\n",
              "            casual   registered          cnt  \n",
              "count   731.000000   731.000000   731.000000  \n",
              "mean    848.176471  3656.172367  4504.348837  \n",
              "std     686.622488  1560.256377  1937.211452  \n",
              "min       2.000000    20.000000    22.000000  \n",
              "25%     315.500000  2497.000000  3152.000000  \n",
              "50%     713.000000  3662.000000  4548.000000  \n",
              "75%    1096.000000  4776.500000  5956.000000  \n",
              "max    3410.000000  6946.000000  8714.000000  "
            ]
          },
          "execution_count": 10,
          "metadata": {},
          "output_type": "execute_result"
        }
      ],
      "source": [
        "df_day.describe()"
      ]
    },
    {
      "cell_type": "code",
      "execution_count": 11,
      "metadata": {
        "colab": {
          "base_uri": "https://localhost:8080/",
          "height": 320
        },
        "id": "GorOlwkv9fyf",
        "outputId": "d3439642-c76c-4799-e337-d9030d40baef"
      },
      "outputs": [
        {
          "data": {
            "text/html": [
              "<div>\n",
              "<style scoped>\n",
              "    .dataframe tbody tr th:only-of-type {\n",
              "        vertical-align: middle;\n",
              "    }\n",
              "\n",
              "    .dataframe tbody tr th {\n",
              "        vertical-align: top;\n",
              "    }\n",
              "\n",
              "    .dataframe thead th {\n",
              "        text-align: right;\n",
              "    }\n",
              "</style>\n",
              "<table border=\"1\" class=\"dataframe\">\n",
              "  <thead>\n",
              "    <tr style=\"text-align: right;\">\n",
              "      <th></th>\n",
              "      <th>instant</th>\n",
              "      <th>season</th>\n",
              "      <th>yr</th>\n",
              "      <th>mnth</th>\n",
              "      <th>hr</th>\n",
              "      <th>holiday</th>\n",
              "      <th>weekday</th>\n",
              "      <th>workingday</th>\n",
              "      <th>weathersit</th>\n",
              "      <th>temp</th>\n",
              "      <th>atemp</th>\n",
              "      <th>hum</th>\n",
              "      <th>windspeed</th>\n",
              "      <th>casual</th>\n",
              "      <th>registered</th>\n",
              "      <th>cnt</th>\n",
              "    </tr>\n",
              "  </thead>\n",
              "  <tbody>\n",
              "    <tr>\n",
              "      <th>count</th>\n",
              "      <td>17379.0000</td>\n",
              "      <td>17379.000000</td>\n",
              "      <td>17379.000000</td>\n",
              "      <td>17379.000000</td>\n",
              "      <td>17379.000000</td>\n",
              "      <td>17379.000000</td>\n",
              "      <td>17379.000000</td>\n",
              "      <td>17379.000000</td>\n",
              "      <td>17379.000000</td>\n",
              "      <td>17379.000000</td>\n",
              "      <td>17379.000000</td>\n",
              "      <td>17379.000000</td>\n",
              "      <td>17379.000000</td>\n",
              "      <td>17379.000000</td>\n",
              "      <td>17379.000000</td>\n",
              "      <td>17379.000000</td>\n",
              "    </tr>\n",
              "    <tr>\n",
              "      <th>mean</th>\n",
              "      <td>8690.0000</td>\n",
              "      <td>2.501640</td>\n",
              "      <td>0.502561</td>\n",
              "      <td>6.537775</td>\n",
              "      <td>11.546752</td>\n",
              "      <td>0.028770</td>\n",
              "      <td>3.003683</td>\n",
              "      <td>0.682721</td>\n",
              "      <td>1.425283</td>\n",
              "      <td>0.496987</td>\n",
              "      <td>0.475775</td>\n",
              "      <td>0.627229</td>\n",
              "      <td>0.190098</td>\n",
              "      <td>35.676218</td>\n",
              "      <td>153.786869</td>\n",
              "      <td>189.463088</td>\n",
              "    </tr>\n",
              "    <tr>\n",
              "      <th>std</th>\n",
              "      <td>5017.0295</td>\n",
              "      <td>1.106918</td>\n",
              "      <td>0.500008</td>\n",
              "      <td>3.438776</td>\n",
              "      <td>6.914405</td>\n",
              "      <td>0.167165</td>\n",
              "      <td>2.005771</td>\n",
              "      <td>0.465431</td>\n",
              "      <td>0.639357</td>\n",
              "      <td>0.192556</td>\n",
              "      <td>0.171850</td>\n",
              "      <td>0.192930</td>\n",
              "      <td>0.122340</td>\n",
              "      <td>49.305030</td>\n",
              "      <td>151.357286</td>\n",
              "      <td>181.387599</td>\n",
              "    </tr>\n",
              "    <tr>\n",
              "      <th>min</th>\n",
              "      <td>1.0000</td>\n",
              "      <td>1.000000</td>\n",
              "      <td>0.000000</td>\n",
              "      <td>1.000000</td>\n",
              "      <td>0.000000</td>\n",
              "      <td>0.000000</td>\n",
              "      <td>0.000000</td>\n",
              "      <td>0.000000</td>\n",
              "      <td>1.000000</td>\n",
              "      <td>0.020000</td>\n",
              "      <td>0.000000</td>\n",
              "      <td>0.000000</td>\n",
              "      <td>0.000000</td>\n",
              "      <td>0.000000</td>\n",
              "      <td>0.000000</td>\n",
              "      <td>1.000000</td>\n",
              "    </tr>\n",
              "    <tr>\n",
              "      <th>25%</th>\n",
              "      <td>4345.5000</td>\n",
              "      <td>2.000000</td>\n",
              "      <td>0.000000</td>\n",
              "      <td>4.000000</td>\n",
              "      <td>6.000000</td>\n",
              "      <td>0.000000</td>\n",
              "      <td>1.000000</td>\n",
              "      <td>0.000000</td>\n",
              "      <td>1.000000</td>\n",
              "      <td>0.340000</td>\n",
              "      <td>0.333300</td>\n",
              "      <td>0.480000</td>\n",
              "      <td>0.104500</td>\n",
              "      <td>4.000000</td>\n",
              "      <td>34.000000</td>\n",
              "      <td>40.000000</td>\n",
              "    </tr>\n",
              "    <tr>\n",
              "      <th>50%</th>\n",
              "      <td>8690.0000</td>\n",
              "      <td>3.000000</td>\n",
              "      <td>1.000000</td>\n",
              "      <td>7.000000</td>\n",
              "      <td>12.000000</td>\n",
              "      <td>0.000000</td>\n",
              "      <td>3.000000</td>\n",
              "      <td>1.000000</td>\n",
              "      <td>1.000000</td>\n",
              "      <td>0.500000</td>\n",
              "      <td>0.484800</td>\n",
              "      <td>0.630000</td>\n",
              "      <td>0.194000</td>\n",
              "      <td>17.000000</td>\n",
              "      <td>115.000000</td>\n",
              "      <td>142.000000</td>\n",
              "    </tr>\n",
              "    <tr>\n",
              "      <th>75%</th>\n",
              "      <td>13034.5000</td>\n",
              "      <td>3.000000</td>\n",
              "      <td>1.000000</td>\n",
              "      <td>10.000000</td>\n",
              "      <td>18.000000</td>\n",
              "      <td>0.000000</td>\n",
              "      <td>5.000000</td>\n",
              "      <td>1.000000</td>\n",
              "      <td>2.000000</td>\n",
              "      <td>0.660000</td>\n",
              "      <td>0.621200</td>\n",
              "      <td>0.780000</td>\n",
              "      <td>0.253700</td>\n",
              "      <td>48.000000</td>\n",
              "      <td>220.000000</td>\n",
              "      <td>281.000000</td>\n",
              "    </tr>\n",
              "    <tr>\n",
              "      <th>max</th>\n",
              "      <td>17379.0000</td>\n",
              "      <td>4.000000</td>\n",
              "      <td>1.000000</td>\n",
              "      <td>12.000000</td>\n",
              "      <td>23.000000</td>\n",
              "      <td>1.000000</td>\n",
              "      <td>6.000000</td>\n",
              "      <td>1.000000</td>\n",
              "      <td>4.000000</td>\n",
              "      <td>1.000000</td>\n",
              "      <td>1.000000</td>\n",
              "      <td>1.000000</td>\n",
              "      <td>0.850700</td>\n",
              "      <td>367.000000</td>\n",
              "      <td>886.000000</td>\n",
              "      <td>977.000000</td>\n",
              "    </tr>\n",
              "  </tbody>\n",
              "</table>\n",
              "</div>"
            ],
            "text/plain": [
              "          instant        season            yr          mnth            hr  \\\n",
              "count  17379.0000  17379.000000  17379.000000  17379.000000  17379.000000   \n",
              "mean    8690.0000      2.501640      0.502561      6.537775     11.546752   \n",
              "std     5017.0295      1.106918      0.500008      3.438776      6.914405   \n",
              "min        1.0000      1.000000      0.000000      1.000000      0.000000   \n",
              "25%     4345.5000      2.000000      0.000000      4.000000      6.000000   \n",
              "50%     8690.0000      3.000000      1.000000      7.000000     12.000000   \n",
              "75%    13034.5000      3.000000      1.000000     10.000000     18.000000   \n",
              "max    17379.0000      4.000000      1.000000     12.000000     23.000000   \n",
              "\n",
              "            holiday       weekday    workingday    weathersit          temp  \\\n",
              "count  17379.000000  17379.000000  17379.000000  17379.000000  17379.000000   \n",
              "mean       0.028770      3.003683      0.682721      1.425283      0.496987   \n",
              "std        0.167165      2.005771      0.465431      0.639357      0.192556   \n",
              "min        0.000000      0.000000      0.000000      1.000000      0.020000   \n",
              "25%        0.000000      1.000000      0.000000      1.000000      0.340000   \n",
              "50%        0.000000      3.000000      1.000000      1.000000      0.500000   \n",
              "75%        0.000000      5.000000      1.000000      2.000000      0.660000   \n",
              "max        1.000000      6.000000      1.000000      4.000000      1.000000   \n",
              "\n",
              "              atemp           hum     windspeed        casual    registered  \\\n",
              "count  17379.000000  17379.000000  17379.000000  17379.000000  17379.000000   \n",
              "mean       0.475775      0.627229      0.190098     35.676218    153.786869   \n",
              "std        0.171850      0.192930      0.122340     49.305030    151.357286   \n",
              "min        0.000000      0.000000      0.000000      0.000000      0.000000   \n",
              "25%        0.333300      0.480000      0.104500      4.000000     34.000000   \n",
              "50%        0.484800      0.630000      0.194000     17.000000    115.000000   \n",
              "75%        0.621200      0.780000      0.253700     48.000000    220.000000   \n",
              "max        1.000000      1.000000      0.850700    367.000000    886.000000   \n",
              "\n",
              "                cnt  \n",
              "count  17379.000000  \n",
              "mean     189.463088  \n",
              "std      181.387599  \n",
              "min        1.000000  \n",
              "25%       40.000000  \n",
              "50%      142.000000  \n",
              "75%      281.000000  \n",
              "max      977.000000  "
            ]
          },
          "execution_count": 11,
          "metadata": {},
          "output_type": "execute_result"
        }
      ],
      "source": [
        "df_hour.describe()"
      ]
    },
    {
      "cell_type": "markdown",
      "metadata": {
        "id": "GckNaSyj9fyg"
      },
      "source": [
        "**(⁜) Descriptive Analysis**\n",
        "\n",
        "1. Dataset day\n",
        "    - Dataset ini terdiri dari 731 entri.\n",
        "    - Tahun yang dominan adalah 2012 (yr = 1).\n",
        "    - Jumlah pengguna terdaftar rata-rata sekitar 3656.\n",
        "    - Hari libur hanya menyumbang sekitar 2,87% dari total hari.\n",
        "    - Rata-rata kondisi cuaca adalah baik (weathersit 1).\n",
        "    - Kelembaban rata-rata sekitar 0,47 (47%).\n",
        "    - Jumlah pengguna casual rata-rata sekitar 848.\n",
        "    - Total sewa sepeda rata-rata sekitar 4504 per hari.\n",
        "    - Musim paling umum adalah musim panas (season 2).\n",
        "    - Bulan yang paling sering muncul adalah Juli (mnth 7).\n",
        "    - Hari kerja merupakan mayoritas (sekitar 68,40%).\n",
        "    - Suhu rata-rata sekitar 0,50 (41°C), dengan suhu perasaan rata-rata sekitar 0,47 (50°C).\n",
        "    - Kecepatan angin rata-rata sekitar 0,63 (67% dari maksimal).\n",
        "\n",
        "\n",
        "2. Dataset hour\n",
        "    - Dataset ini terdiri atas 17.379 entri.\n",
        "    - Nilai rata-rata untuk kolom-kolom utama adalah sekitar:\n",
        "        - yr 0,50, mengindikasikan perbandingan antara tahun 2011 dan 2012.\n",
        "        - hr 11,55, mengindikasikan jam rata-rata dalam sehari.\n",
        "        - weekday 3, hari rata-rata dalam seminggu.\n",
        "        - weathersit 1,43, kondisi cuaca rata-rata.\n",
        "        - windspeed 0,63, kecepatan angin rata-rata.\n",
        "        - registered 153,79, rata-rata jumlah pengguna terdaftar.\n",
        "        - season 2,50, menunjukkan musim rata-rata.\n",
        "        - mnth 6,54, menunjukkan bulan rata-rata dalam setahun.\n",
        "        - holiday 0,03, persentase hari libur.\n",
        "        - workingday 0,68, persentase hari kerja.\n",
        "        - temp 0,50, suhu rata-rata yang normal.\n",
        "        - hum 0,48, kelembaban rata-rata.\n",
        "        - Pengguna casual (casual) 35,68, rata-rata jumlah pengguna casual.\n",
        "        - Pengguna terdaftar (registered) 153.79, rata-rata jumlah pengguna terdaftar.\n",
        "        - Total sewa sepeda (cnt) 189,46, rata-rata jumlah total sewa sepeda."
      ]
    },
    {
      "cell_type": "markdown",
      "metadata": {
        "id": "eqCDKgZi9fyg"
      },
      "source": [
        "## Cleaning Data"
      ]
    },
    {
      "cell_type": "markdown",
      "metadata": {
        "id": "1I30beLS9fyg"
      },
      "source": [
        "### > Fixed data type"
      ]
    },
    {
      "cell_type": "code",
      "execution_count": 12,
      "metadata": {
        "id": "uqa2XcD69fyg"
      },
      "outputs": [],
      "source": [
        "# df_day\n",
        "df_day[\"dteday\"] = pd.to_datetime(df_day[\"dteday\"])\n",
        "# df_hour\n",
        "df_hour[\"dteday\"] = pd.to_datetime(df_hour[\"dteday\"])"
      ]
    },
    {
      "cell_type": "code",
      "execution_count": 13,
      "metadata": {
        "colab": {
          "base_uri": "https://localhost:8080/"
        },
        "id": "BWvfK0en9fyg",
        "outputId": "adcd89fe-8b72-4b1e-b5b3-3f5bb1689d3f"
      },
      "outputs": [
        {
          "name": "stdout",
          "output_type": "stream",
          "text": [
            "df_day[\"dteday\"] :  datetime64[ns]\n",
            "df_hour[\"dteday\"] :  datetime64[ns]\n"
          ]
        }
      ],
      "source": [
        "# Check data type for df_day and df_hour\n",
        "print('df_day[\"dteday\"] : ', df_day[\"dteday\"].dtypes)\n",
        "print('df_hour[\"dteday\"] : ', df_hour[\"dteday\"].dtypes)"
      ]
    },
    {
      "cell_type": "markdown",
      "metadata": {
        "id": "dr-beI3A9fyh"
      },
      "source": [
        "(✓) Fixed"
      ]
    },
    {
      "cell_type": "markdown",
      "metadata": {
        "id": "250O17YY9fyh"
      },
      "source": [
        "# Exploratory Data Analysis (EDA)"
      ]
    },
    {
      "cell_type": "markdown",
      "metadata": {
        "id": "IfKd74ws9fyh"
      },
      "source": [
        "**> Korelasi antara variabel numerik**"
      ]
    },
    {
      "cell_type": "code",
      "execution_count": 14,
      "metadata": {
        "colab": {
          "base_uri": "https://localhost:8080/",
          "height": 542
        },
        "id": "DhAtyQWZ9fyh",
        "outputId": "2d9779fe-669c-4a54-82e1-662b4dd7d79d"
      },
      "outputs": [
        {
          "ename": "ValueError",
          "evalue": "Mime type rendering requires nbformat>=4.2.0 but it is not installed",
          "output_type": "error",
          "traceback": [
            "\u001b[1;31m---------------------------------------------------------------------------\u001b[0m",
            "\u001b[1;31mValueError\u001b[0m                                Traceback (most recent call last)",
            "Cell \u001b[1;32mIn[14], line 7\u001b[0m\n\u001b[0;32m      5\u001b[0m fig \u001b[38;5;241m=\u001b[39m px\u001b[38;5;241m.\u001b[39mimshow(correlation_matrix)\n\u001b[0;32m      6\u001b[0m fig\u001b[38;5;241m.\u001b[39mupdate_layout(title\u001b[38;5;241m=\u001b[39m\u001b[38;5;124m\"\u001b[39m\u001b[38;5;124mKorelasi antara Variabel Numerik\u001b[39m\u001b[38;5;124m\"\u001b[39m)\n\u001b[1;32m----> 7\u001b[0m \u001b[43mfig\u001b[49m\u001b[38;5;241;43m.\u001b[39;49m\u001b[43mshow\u001b[49m\u001b[43m(\u001b[49m\u001b[43m)\u001b[49m\n",
            "File \u001b[1;32m~\\AppData\\Local\\Packages\\PythonSoftwareFoundation.Python.3.11_qbz5n2kfra8p0\\LocalCache\\local-packages\\Python311\\site-packages\\plotly\\basedatatypes.py:3410\u001b[0m, in \u001b[0;36mBaseFigure.show\u001b[1;34m(self, *args, **kwargs)\u001b[0m\n\u001b[0;32m   3377\u001b[0m \u001b[38;5;250m\u001b[39m\u001b[38;5;124;03m\"\"\"\u001b[39;00m\n\u001b[0;32m   3378\u001b[0m \u001b[38;5;124;03mShow a figure using either the default renderer(s) or the renderer(s)\u001b[39;00m\n\u001b[0;32m   3379\u001b[0m \u001b[38;5;124;03mspecified by the renderer argument\u001b[39;00m\n\u001b[1;32m   (...)\u001b[0m\n\u001b[0;32m   3406\u001b[0m \u001b[38;5;124;03mNone\u001b[39;00m\n\u001b[0;32m   3407\u001b[0m \u001b[38;5;124;03m\"\"\"\u001b[39;00m\n\u001b[0;32m   3408\u001b[0m \u001b[38;5;28;01mimport\u001b[39;00m \u001b[38;5;21;01mplotly\u001b[39;00m\u001b[38;5;21;01m.\u001b[39;00m\u001b[38;5;21;01mio\u001b[39;00m \u001b[38;5;28;01mas\u001b[39;00m \u001b[38;5;21;01mpio\u001b[39;00m\n\u001b[1;32m-> 3410\u001b[0m \u001b[38;5;28;01mreturn\u001b[39;00m \u001b[43mpio\u001b[49m\u001b[38;5;241;43m.\u001b[39;49m\u001b[43mshow\u001b[49m\u001b[43m(\u001b[49m\u001b[38;5;28;43mself\u001b[39;49m\u001b[43m,\u001b[49m\u001b[43m \u001b[49m\u001b[38;5;241;43m*\u001b[39;49m\u001b[43margs\u001b[49m\u001b[43m,\u001b[49m\u001b[43m \u001b[49m\u001b[38;5;241;43m*\u001b[39;49m\u001b[38;5;241;43m*\u001b[39;49m\u001b[43mkwargs\u001b[49m\u001b[43m)\u001b[49m\n",
            "File \u001b[1;32m~\\AppData\\Local\\Packages\\PythonSoftwareFoundation.Python.3.11_qbz5n2kfra8p0\\LocalCache\\local-packages\\Python311\\site-packages\\plotly\\io\\_renderers.py:394\u001b[0m, in \u001b[0;36mshow\u001b[1;34m(fig, renderer, validate, **kwargs)\u001b[0m\n\u001b[0;32m    389\u001b[0m         \u001b[38;5;28;01mraise\u001b[39;00m \u001b[38;5;167;01mValueError\u001b[39;00m(\n\u001b[0;32m    390\u001b[0m             \u001b[38;5;124m\"\u001b[39m\u001b[38;5;124mMime type rendering requires ipython but it is not installed\u001b[39m\u001b[38;5;124m\"\u001b[39m\n\u001b[0;32m    391\u001b[0m         )\n\u001b[0;32m    393\u001b[0m     \u001b[38;5;28;01mif\u001b[39;00m \u001b[38;5;129;01mnot\u001b[39;00m nbformat \u001b[38;5;129;01mor\u001b[39;00m Version(nbformat\u001b[38;5;241m.\u001b[39m__version__) \u001b[38;5;241m<\u001b[39m Version(\u001b[38;5;124m\"\u001b[39m\u001b[38;5;124m4.2.0\u001b[39m\u001b[38;5;124m\"\u001b[39m):\n\u001b[1;32m--> 394\u001b[0m         \u001b[38;5;28;01mraise\u001b[39;00m \u001b[38;5;167;01mValueError\u001b[39;00m(\n\u001b[0;32m    395\u001b[0m             \u001b[38;5;124m\"\u001b[39m\u001b[38;5;124mMime type rendering requires nbformat>=4.2.0 but it is not installed\u001b[39m\u001b[38;5;124m\"\u001b[39m\n\u001b[0;32m    396\u001b[0m         )\n\u001b[0;32m    398\u001b[0m     ipython_display\u001b[38;5;241m.\u001b[39mdisplay(bundle, raw\u001b[38;5;241m=\u001b[39m\u001b[38;5;28;01mTrue\u001b[39;00m)\n\u001b[0;32m    400\u001b[0m \u001b[38;5;66;03m# external renderers\u001b[39;00m\n",
            "\u001b[1;31mValueError\u001b[0m: Mime type rendering requires nbformat>=4.2.0 but it is not installed"
          ]
        }
      ],
      "source": [
        "warnings.filterwarnings(\"ignore\")\n",
        "\n",
        "# df_day\n",
        "correlation_matrix = df_day.corr()\n",
        "fig = px.imshow(correlation_matrix)\n",
        "fig.update_layout(title=\"Korelasi antara Variabel Numerik\")\n",
        "fig.show()"
      ]
    },
    {
      "cell_type": "markdown",
      "metadata": {
        "id": "DTViW3L39fyh"
      },
      "source": [
        "**> Distribusi variabel numerik**"
      ]
    },
    {
      "cell_type": "code",
      "execution_count": null,
      "metadata": {
        "colab": {
          "base_uri": "https://localhost:8080/",
          "height": 1000
        },
        "id": "EcYguSSb9fyh",
        "outputId": "8e71306c-d8e2-44ca-e418-16199c2f2154"
      },
      "outputs": [],
      "source": [
        "numeric_cols = ['temp', 'atemp', 'hum', 'windspeed', 'casual', 'registered', 'cnt']\n",
        "for col in numeric_cols:\n",
        "    fig = px.histogram(df_day, x=col, title=f'Distribusi {col}')\n",
        "    fig.show()"
      ]
    },
    {
      "cell_type": "markdown",
      "metadata": {
        "id": "OqGSz7nF9fyi"
      },
      "source": [
        "**> Distribusi variabel kategorikal**"
      ]
    },
    {
      "cell_type": "code",
      "execution_count": null,
      "metadata": {
        "colab": {
          "base_uri": "https://localhost:8080/",
          "height": 1000
        },
        "id": "QMfj66ES9fyi",
        "outputId": "90332c89-438b-4971-a595-2a73b7d82fda"
      },
      "outputs": [],
      "source": [
        "categorical_cols = ['season', 'yr', 'mnth', 'holiday', 'weekday', 'workingday', 'weathersit']\n",
        "for col in categorical_cols:\n",
        "    fig = px.bar(df_day[col].value_counts().reset_index(), x='index', y=col)\n",
        "    fig.update_layout(title=f'Distribusi {col}')\n",
        "    fig.show()"
      ]
    },
    {
      "cell_type": "markdown",
      "metadata": {
        "id": "F73x4uwy9fyi"
      },
      "source": [
        "**> Hubungan antara musim (season) dan jumlah sewa (cnt)**"
      ]
    },
    {
      "cell_type": "code",
      "execution_count": null,
      "metadata": {
        "colab": {
          "base_uri": "https://localhost:8080/",
          "height": 542
        },
        "id": "OqHyrae69fyi",
        "outputId": "d4c48482-abd9-4897-c709-f6a9221f6b09"
      },
      "outputs": [],
      "source": [
        "fig = px.box(df_day, x='season', y='cnt')\n",
        "fig.update_layout(title='Relasi antara Musim dan Jumlah Sewa')\n",
        "fig.show()"
      ]
    },
    {
      "cell_type": "markdown",
      "metadata": {
        "id": "cmwWWAGQ9fyi"
      },
      "source": [
        "**> Hubungan antara hari libur (holiday) dan jumlah sewa (cnt)**"
      ]
    },
    {
      "cell_type": "code",
      "execution_count": null,
      "metadata": {
        "colab": {
          "base_uri": "https://localhost:8080/",
          "height": 542
        },
        "id": "wHjND72k9fyj",
        "outputId": "0333b004-e044-4618-859c-3d768a392884"
      },
      "outputs": [],
      "source": [
        "fig = px.box(df_day, x='holiday', y='cnt')\n",
        "fig.update_layout(title='Hubungan antara Hari Libur dan Jumlah Sewa')\n",
        "fig.show()"
      ]
    },
    {
      "cell_type": "markdown",
      "metadata": {
        "id": "qtXJ_3Sr9fyj"
      },
      "source": [
        "**> Hubungan antara cuaca (weathersit) dan jumlah sewa (cnt)**"
      ]
    },
    {
      "cell_type": "code",
      "execution_count": null,
      "metadata": {
        "colab": {
          "base_uri": "https://localhost:8080/",
          "height": 542
        },
        "id": "cmNM1Xtq9fyj",
        "outputId": "0d598494-c8e7-4ede-9861-41bb9a6355e5"
      },
      "outputs": [],
      "source": [
        "fig = px.box(df_day, x='weathersit', y='cnt')\n",
        "fig.update_layout(title='Hubungan antara Cuaca dan Jumlah Sewa')\n",
        "fig.show()"
      ]
    },
    {
      "cell_type": "markdown",
      "metadata": {
        "id": "qzBIOOSq9fyj"
      },
      "source": [
        "**> Scatter plot antara suhu (temp) dan jumlah sewa (cnt)**"
      ]
    },
    {
      "cell_type": "code",
      "execution_count": null,
      "metadata": {
        "colab": {
          "base_uri": "https://localhost:8080/",
          "height": 542
        },
        "id": "fr6lSfsU9fyj",
        "outputId": "63ebc748-cda7-49d3-bf4e-369cae640abe"
      },
      "outputs": [],
      "source": [
        "fig = px.scatter(df_day, x='temp', y='cnt', title='Scatter Plot antara Suhu dan Jumlah Sewa')\n",
        "fig.show()"
      ]
    },
    {
      "cell_type": "markdown",
      "metadata": {
        "id": "CZIPiPRx9fyj"
      },
      "source": [
        "# Visualization & Explanatory Analysis"
      ]
    },
    {
      "cell_type": "markdown",
      "metadata": {
        "id": "4K0fp2VL9fyj"
      },
      "source": [
        "**1. Berapakah jumlah total penyewaan sepeda (cnt) selama musim gugur (season 3) pada tahun 2012?**"
      ]
    },
    {
      "cell_type": "code",
      "execution_count": null,
      "metadata": {
        "colab": {
          "base_uri": "https://localhost:8080/"
        },
        "id": "ePV3BYFe9fyk",
        "outputId": "e6ceecef-4a25-4280-9d08-8fa4af4b27d4"
      },
      "outputs": [],
      "source": [
        "# Filter tahun 2012 dan musim gugur (season 3)\n",
        "filtered_data = df_day[(df_day[\"yr\"] == 1) & (df_day[\"season\"] == 3)]\n",
        "\n",
        "# Hitung jumlah total sewa sepeda (cnt)\n",
        "total_sewa_sepeda = filtered_data[\"cnt\"].sum()\n",
        "\n",
        "print(\"Jumlah total sewa sepeda untuk tahun 2012 selama musim gugur (musim 3):\", total_sewa_sepeda)"
      ]
    },
    {
      "cell_type": "markdown",
      "metadata": {
        "id": "8kAlY8lk9fyk"
      },
      "source": [
        "**2. Berapa banyak sepeda sewa yang digunakan pada hari libur (holiday = 1) selama musim panas (season 2) pada tahun 2011?**"
      ]
    },
    {
      "cell_type": "code",
      "execution_count": null,
      "metadata": {
        "colab": {
          "base_uri": "https://localhost:8080/"
        },
        "id": "_5e2NjGP9fyk",
        "outputId": "242cebc7-2687-4167-f473-bb31786ebaf8"
      },
      "outputs": [],
      "source": [
        "# Filter tahun 2011, musim panas (season 2), dan hari libur (holiday = 1)\n",
        "filtered_data = df_day[(df_day[\"yr\"] == 0) & (df_day[\"season\"] == 2) & (df_day[\"holiday\"] == 1)]\n",
        "\n",
        "# Hitung jumlah total sepeda sewaan\n",
        "total_sepeda_sewaan = filtered_data[\"cnt\"].sum()\n",
        "\n",
        "print(\"Jumlah total sepeda sewaan yang digunakan pada hari libur selama musim panas tahun 2011:\", total_sepeda_sewaan)"
      ]
    },
    {
      "cell_type": "markdown",
      "metadata": {
        "id": "7wrufYSa9fyk"
      },
      "source": [
        "**3. Bagaimana dapat meningkatkan jumlah penyewaan sepeda yang dilakukan oleh pengguna casual pada hari kerja (working day = 1)?**"
      ]
    },
    {
      "cell_type": "code",
      "execution_count": null,
      "metadata": {
        "colab": {
          "base_uri": "https://localhost:8080/",
          "height": 542
        },
        "id": "QMxYEDOP9fyk",
        "outputId": "9a59af6d-0dd9-4b8c-9c71-b39075ccdad0"
      },
      "outputs": [],
      "source": [
        "# Filter pengguna casual (casual) pada hari kerja (workingday = 1)\n",
        "filtered_data = df_day[(df_day[\"workingday\"] == 1) & (df_day[\"casual\"] > 0)]\n",
        "\n",
        "# Visualisasikan jumlah sewa sepeda casual pada hari kerja\n",
        "fig = px.bar(filtered_data, x=\"weekday\", y=\"casual\", title=\"Jumlah Sewa Sepeda Casual pada Hari Kerja\")\n",
        "fig.update_xaxes(title=\"Hari Kerja\")\n",
        "fig.update_yaxes(title=\"Jumlah Sewa Sepeda Casual\")\n",
        "fig.show()"
      ]
    },
    {
      "cell_type": "markdown",
      "metadata": {
        "id": "6fy6CIxf9fyl"
      },
      "source": [
        "**Strategi:**\n",
        "- Mengumpulkan feedback secara khusus dari pengguna yang menggunakan layanan pada hari kerja untuk mendapatkan wawasan yang lebih mendalam dan melakukan penyesuaian layanan sesuai kebutuhan.\n",
        "\n",
        "- Melakukan program promosi khusus pada hari-hari dengan tingkat sewa rendah, seperti pada hari Senin dan Rabu, misalnya dengan menawarkan diskon istimewa atau penawaran khusus yang berlaku hanya pada hari kerja.\n",
        "\n",
        "- Menjamin aksesibilitas dan kondisi optimal dari fasilitas penyewaan sepeda, seperti stasiun atau lokasi penyewaan, terutama selama hari kerja.\n",
        "\n",
        "- Mempertimbangkan penambahan jumlah sepeda yang tersedia khususnya pada hari kerja untuk mengakomodasi lonjakan permintaan yang lebih tinggi pada hari-hari tersebut.\n",
        "\n",
        "- Meningkatkan upaya pemasaran khusus untuk hari kerja, seperti kampanye iklan online yang ditargetkan khusus untuk pengguna biasa selama hari kerja.\n",
        "\n",
        "- Merancang program loyalitas atau diskon berkelanjutan untuk pengguna biasa yang sering melakukan penyewaan sepeda pada hari kerja, sebagai insentif tambahan untuk meningkatkan partisipasi mereka.\n",
        "\n",
        "- Menyediakan paket langganan harian yang lebih terjangkau atau paket langganan reguler dengan harga diskon khusus untuk pengguna yang menyewa sepeda selama hari kerja.\n",
        "\n",
        "- Menjalin kerjasama dengan perusahaan atau lembaga pendidikan di sekitar area penyewaan sepeda untuk memberikan insentif atau diskon khusus kepada karyawan atau mahasiswa yang menggunakan layanan penyewaan pada hari kerja."
      ]
    },
    {
      "cell_type": "markdown",
      "metadata": {
        "id": "uOnfNSV99fyl"
      },
      "source": [
        "**4. Apakah ada hubungan antara suhu (temp) dan jumlah pengguna terdaftar (registered)?**"
      ]
    },
    {
      "cell_type": "code",
      "execution_count": null,
      "metadata": {
        "colab": {
          "base_uri": "https://localhost:8080/",
          "height": 542
        },
        "id": "fWqVb9Bt9fyl",
        "outputId": "e5e0eb3d-33cc-42fe-d8a1-adb8676830ac"
      },
      "outputs": [],
      "source": [
        "# Buat scatter plot dengan Plotly untuk memvisualisasikan hubungan suhu (temp) dengan jumlah pengguna terdaftar (registered)\n",
        "fig = px.scatter(df_day, x=\"temp\", y=\"registered\", title=\"Hubungan Suhu dengan Jumlah Pengguna Terdaftar\")\n",
        "fig.update_xaxes(title=\"Suhu (temp)\")\n",
        "fig.update_yaxes(title=\"Jumlah Pengguna Terdaftar\")\n",
        "fig.show()"
      ]
    },
    {
      "cell_type": "markdown",
      "metadata": {
        "id": "efLtB54V9fyl"
      },
      "source": [
        "**Insight:**\n",
        "\n",
        "Dalam grafik, terlihat adanya korelasi positif yang signifikan antara suhu (temp) dan jumlah pengguna yang terdaftar. Artinya, ketika suhu meningkat, terjadi kecenderungan peningkatan jumlah pengguna yang terdaftar. Fenomena ini menunjukkan bahwa cuaca yang lebih hangat cenderung memotivasi atau mempengaruhi lebih banyak orang untuk mendaftar dan menggunakan layanan penyewaan sepeda.\n",
        "\n",
        "Peningkatan suhu dapat menjadi faktor pendorong positif untuk aktivitas luar ruangan seperti bersepeda, yang tercermin dalam peningkatan pendaftaran pengguna pada hari-hari dengan suhu yang lebih tinggi. Hal ini dapat menjadi wawasan yang bernilai bagi penyelenggara layanan sepeda untuk mengantisipasi dan merespons kebutuhan pengguna dengan menyesuaikan layanan atau promosi tertentu selama periode cuaca hangat."
      ]
    },
    {
      "cell_type": "markdown",
      "metadata": {
        "id": "1jmPs-jf9fyl"
      },
      "source": [
        "**5. Bagaimana cuaca (weathersit) memengaruhi jumlah penyewaan sepeda (cnt) selama musim gugur (season 3)?**"
      ]
    },
    {
      "cell_type": "code",
      "execution_count": null,
      "metadata": {
        "colab": {
          "base_uri": "https://localhost:8080/",
          "height": 542
        },
        "id": "VmHAokj69fyl",
        "outputId": "461df167-2467-46e7-a625-b58d94c20a91"
      },
      "outputs": [],
      "source": [
        "# Filter musim gugur (season 3)\n",
        "filtered_data = df_day[df_day[\"season\"] == 3]\n",
        "\n",
        "# Buat plot dengan Plotly untuk menganalisis pengaruh cuaca terhadap jumlah sewa sepeda\n",
        "fig = px.bar(filtered_data, x=\"weathersit\", y=\"cnt\", title=\"Pengaruh Cuaca terhadap Jumlah Sewa Sepeda (Musim Gugur)\")\n",
        "fig.update_xaxes(title=\"Cuaca (weathersit)\")\n",
        "fig.update_yaxes(title=\"Jumlah Sewa Sepeda (cnt)\")\n",
        "\n",
        "# Tampilkan plot\n",
        "fig.show()"
      ]
    },
    {
      "cell_type": "markdown",
      "metadata": {
        "id": "6_NjVHmX9fyl"
      },
      "source": [
        "**(Info):**\n",
        "- weathersit :\n",
        "\t- 1: Clear, Few clouds, Partly cloudy, Partly cloudy\n",
        "\t- 2: Mist + Cloudy, Mist + Broken clouds, Mist + Few clouds, Mist\n",
        "\t- 3: Light Snow, Light Rain + Thunderstorm + Scattered clouds, Light Rain + Scattered clouds\n",
        "\t- 4: Heavy Rain + Ice Pallets + Thunderstorm + Mist, Snow + Fog\n",
        "\n",
        "**Insight:**\n",
        "\n",
        "Dari hasil analisis grafik yang dilakukan, dapat disimpulkan bahwa kondisi cuaca memiliki dampak signifikan terhadap jumlah sepeda yang disewa. Grafik tersebut menggambarkan hubungan yang jelas antara perubahan kondisi cuaca dan perilaku pengguna sepeda. Lebih rinci, dapat diamati bahwa pada kondisi cuaca tertentu, seperti cuaca yang cerah atau sebagian berawan (weathersit 1), terjadi peningkatan yang nyata dalam jumlah sepeda yang disewa.\n",
        "\n",
        "Analisis ini menyoroti pentingnya faktor-faktor seperti kondisi cuaca dalam konteks layanan penyewaan sepeda. Kondisi cuaca yang berubah dapat menjadi faktor kunci yang memengaruhi tingkat permintaan sepeda. Hasil ini dapat memberikan wawasan berharga bagi para pengambil keputusan dalam mengelola persediaan sepeda, menyesuaikan tarif sesuai kondisi cuaca, dan merancang strategi pemasaran yang lebih efektif untuk meningkatkan partisipasi pengguna sepeda. Dengan memahami bagaimana cuaca memengaruhi pola penyewaan, penyedia layanan sepeda dapat meningkatkan responsivitas mereka terhadap perubahan kondisi cuaca demi meningkatkan kepuasan pengguna dan efisiensi operasional."
      ]
    },
    {
      "cell_type": "markdown",
      "metadata": {
        "id": "hskPNLt59fym"
      },
      "source": [
        "**6. Berapa distribusi per jam dari penyewaan sepeda (cnt) pada Hari Natal (holiday = 1) tahun 2012 (year = 1)?**"
      ]
    },
    {
      "cell_type": "code",
      "execution_count": null,
      "metadata": {
        "colab": {
          "base_uri": "https://localhost:8080/"
        },
        "id": "8-cRRwZj9fym",
        "outputId": "51234433-b810-43dc-8989-f416fe4dad90"
      },
      "outputs": [],
      "source": [
        "# Filter data tahun 2012 (yr = 1), Hari Natal (holiday = 1), dan musim panas (season 2)\n",
        "filtered_data = df_hour[(df_hour[\"yr\"] == 1) & (df_hour[\"holiday\"] == 1) & (df_hour[\"season\"] == 2)]\n",
        "\n",
        "# Hitung distribusi per jam sewa sepeda (cnt)\n",
        "distribusi_per_jam = filtered_data.groupby(\"hr\")[\"cnt\"].sum()\n",
        "\n",
        "print(\"Distribusi per jam sewa sepeda pada Hari Natal tahun 2012:\")\n",
        "print(distribusi_per_jam)"
      ]
    },
    {
      "cell_type": "markdown",
      "metadata": {
        "id": "xVJds5Oj9fym"
      },
      "source": [
        "**Insight:**\n",
        "\n",
        "Distribusi ini memperlihatkan tren penggunaan sepeda selama Hari Natal, dengan puncak tertinggi terjadi pada pukul 17:00 (5:00 sore) dengan jumlah sewa sepeda mencapai 1.117. Lonjakan ini mungkin terkait dengan kebiasaan banyak orang yang memilih bersepeda pada sore hari selama liburan Natal. Selain itu, aktivitas penyewaan sepeda mulai meningkat sejak pukul 6:00 pagi, mencapai puncaknya antara pukul 17:00 dan 18:00. Setelah itu, terjadi penurunan perlahan dalam jumlah penyewaan sepeda hingga larut malam.\n",
        "\n",
        "Grafik ini memberikan gambaran yang jelas tentang pola penggunaan sepeda selama Hari Natal, menggambarkan kegiatan liburan yang mencakup aktivitas bersepeda dan mencerminkan rutinitas masyarakat pada tanggal tersebut. Peningkatan sejak pagi hingga sore mengindikasikan bahwa banyak orang memilih menggunakan sepeda sebagai sarana transportasi atau rekreasi selama liburan ini. Penurunan setelah pukul 18:00 mungkin menunjukkan berkurangnya aktivitas seiring dengan malam tiba."
      ]
    },
    {
      "cell_type": "markdown",
      "metadata": {
        "id": "Zmn7tXB89fym"
      },
      "source": [
        "# Conclusion"
      ]
    },
    {
      "cell_type": "markdown",
      "metadata": {
        "id": "FQgbjEQX9fym"
      },
      "source": [
        "1. Permintaan sepeda sangat dipengaruhi oleh faktor cuaca yang signifikan.\n",
        "2. Meskipun musim gugur 2012 mencatatkan 641.479 penyewaan sepeda, hal ini lebih menunjukkan kerentanannya terhadap cuaca, acara, dan strategi promosi yang diterapkan daripada indikasi bisnis yang kuat.\n",
        "3. Penggunaan sepeda selama liburan musim panas 2011 mencapai 7224, namun angka ini tidak hanya mencerminkan popularitas bersepeda saat liburan. Investasi infrastruktur dan peningkatan minat bersepeda juga memainkan peran penting.\n",
        "4. Hubungan antara suhu dan jumlah pengguna terdaftar pada penyewaan sepeda menunjukkan bahwa minat bersepeda dipengaruhi oleh cuaca. Peningkatan suhu cenderung memberikan dampak positif terhadap jumlah pengguna.\n",
        "5. Puncak aktivitas penyewaan sepeda terjadi pada hari Jumat, menandakan bahwa penggunaan sepeda meningkat secara signifikan menjelang akhir pekan.\n",
        "6. Pada Hari Natal tahun 2012, terjadi puncak aktivitas penyewaan antara jam 17:00 hingga 18:00, dengan 1117 penyewaan. Peningkatan ini dimulai sejak pukul 8 pagi, mencerminkan minat yang luar biasa pada hari libur tersebut."
      ]
    },
    {
      "cell_type": "markdown",
      "metadata": {
        "id": "8ahZ6AY69fym"
      },
      "source": [
        "# Mendapatkan file required.txt dari library yang digunakan"
      ]
    }
  ],
  "metadata": {
    "colab": {
      "provenance": []
    },
    "kernelspec": {
      "display_name": "Python 3",
      "language": "python",
      "name": "python3"
    },
    "language_info": {
      "codemirror_mode": {
        "name": "ipython",
        "version": 3
      },
      "file_extension": ".py",
      "mimetype": "text/x-python",
      "name": "python",
      "nbconvert_exporter": "python",
      "pygments_lexer": "ipython3",
      "version": "3.11.7"
    },
    "orig_nbformat": 4
  },
  "nbformat": 4,
  "nbformat_minor": 0
}
